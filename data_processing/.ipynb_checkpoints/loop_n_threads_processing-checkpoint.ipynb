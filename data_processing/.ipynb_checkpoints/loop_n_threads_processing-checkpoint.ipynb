{
 "cells": [
  {
   "cell_type": "code",
   "execution_count": 80,
   "id": "c2dcfb97",
   "metadata": {
    "ExecuteTime": {
     "end_time": "2022-11-19T21:05:22.543262Z",
     "start_time": "2022-11-19T21:05:22.536118Z"
    }
   },
   "outputs": [],
   "source": [
    "import numpy as np\n",
    "import matplotlib.pyplot as plt\n",
    "import matplotlib.colors as colors"
   ]
  },
  {
   "cell_type": "code",
   "execution_count": 88,
   "id": "054bd43b",
   "metadata": {
    "ExecuteTime": {
     "end_time": "2022-11-19T21:36:38.797850Z",
     "start_time": "2022-11-19T21:36:38.740301Z"
    }
   },
   "outputs": [],
   "source": [
    "max_num_threads = 4\n",
    "max_n = 1000\n",
    "experiments = 5\n",
    "\n",
    "data = np.full((max_num_threads,(max_n-100)//50 + 1,experiments),np.nan)\n",
    "\n",
    "for experiment in range(experiments):\n",
    "    for i in range(len(data)):\n",
    "        a = np.genfromtxt(f'../data/{experiment+1}.{i+1}.txt')\n",
    "        data[i,:,experiment] = a[:,1]\n",
    "        \n",
    "ns = a[:,0]\n",
    "threads = np.arange(1,max_num_threads+1)"
   ]
  },
  {
   "cell_type": "code",
   "execution_count": 92,
   "id": "cc851d16",
   "metadata": {
    "ExecuteTime": {
     "end_time": "2022-11-19T21:37:24.979567Z",
     "start_time": "2022-11-19T21:37:24.613173Z"
    }
   },
   "outputs": [
    {
     "data": {
      "text/plain": [
       "Text(0, 0.5, 'Threads')"
      ]
     },
     "execution_count": 92,
     "metadata": {},
     "output_type": "execute_result"
    },
    {
     "data": {
      "image/png": "[encoded data removed]",
      "text/plain": [
       "<Figure size 432x288 with 2 Axes>"
      ]
     },
     "metadata": {
      "needs_background": "light"
     },
     "output_type": "display_data"
    }
   ],
   "source": [
    "pcm = plt.pcolormesh(ns, threads, data.mean(axis=2))\n",
    "plt.colorbar(pcm, label='Time, sec')\n",
    "plt.xlabel('n')\n",
    "plt.ylabel('Threads')"
   ]
  },
  {
   "cell_type": "code",
   "execution_count": 93,
   "id": "2f8750fd",
   "metadata": {
    "ExecuteTime": {
     "end_time": "2022-11-19T21:37:33.524406Z",
     "start_time": "2022-11-19T21:37:33.509304Z"
    }
   },
   "outputs": [],
   "source": [
    "speedup = np.full((max_num_threads,(max_n-100)//50 + 1),np.nan)\n",
    "for i in range(len(data)):\n",
    "    speedup[i] = data.mean(axis=2)[0] / data.mean(axis=2)[i]"
   ]
  },
  {
   "cell_type": "code",
   "execution_count": 94,
   "id": "eb9746ad",
   "metadata": {
    "ExecuteTime": {
     "end_time": "2022-11-19T21:37:34.617667Z",
     "start_time": "2022-11-19T21:37:34.175155Z"
    }
   },
   "outputs": [
    {
     "data": {
      "text/plain": [
       "Text(0, 0.5, 'Threads')"
      ]
     },
     "execution_count": 94,
     "metadata": {},
     "output_type": "execute_result"
    },
    {
     "data": {
      "image/png": "[encoded data removed]",
      "text/plain": [
       "<Figure size 432x288 with 2 Axes>"
      ]
     },
     "metadata": {
      "needs_background": "light"
     },
     "output_type": "display_data"
    }
   ],
   "source": [
    "pcm = plt.pcolormesh(ns, threads, speedup)\n",
    "plt.colorbar(pcm, label='Speedup')\n",
    "plt.xlabel('n')\n",
    "plt.ylabel('Threads')"
   ]
  },
  {
   "cell_type": "code",
   "execution_count": null,
   "id": "9bbe6cee",
   "metadata": {},
   "outputs": [],
   "source": []
  }
 ],
 "metadata": {
  "kernelspec": {
   "display_name": "Python 3 (ipykernel)",
   "language": "python",
   "name": "python3"
  },
  "language_info": {
   "codemirror_mode": {
    "name": "ipython",
    "version": 3
   },
   "file_extension": ".py",
   "mimetype": "text/x-python",
   "name": "python",
   "nbconvert_exporter": "python",
   "pygments_lexer": "ipython3",
   "version": "3.10.8"
  }
 },
 "nbformat": 4,
 "nbformat_minor": 5
}
